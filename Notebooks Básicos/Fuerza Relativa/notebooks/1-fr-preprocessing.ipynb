{
 "cells": [
  {
   "cell_type": "markdown",
   "metadata": {},
   "source": [
    "# Fuerza Relativa\n",
    "La fuerza relativa entre dos activos es una herramienta utilizada en análisis financiero y de inversiones para comparar el rendimiento de un activo con respecto a otro. Específicamente, ayuda a identificar cuál de los dos está teniendo un mejor desempeño en un periodo determinado. Esta métrica es muy útil para la toma de decisiones de inversión, especialmente en la gestión de portafolios y en el trading estratégico.\n",
    "\n",
    "### Utilidad de la Fuerza Relativa\n",
    "\n",
    "1. **Selección de Activos**: Permite a los inversores seleccionar el activo que está superando al otro, lo cual es útil en la diversificación y optimización del portafolio.\n",
    "2. **Identificación de Tendencias**: Ayuda a identificar si un activo está ganando o perdiendo fuerza en comparación con el mercado general o con un activo específico. Esto puede señalar cambios de tendencia potenciales.\n",
    "3. **Señales de Trading**: La fuerza relativa puede ser utilizada para generar señales de compra o venta basadas en la comparación del desempeño relativo de los activos.\n",
    "4. **Gestión de Riesgo**: Comparar la fuerza relativa puede ayudar a evitar activos con un desempeño inferior y, por lo tanto, gestionar mejor el riesgo.\n",
    "\n"
   ]
  },
  {
   "cell_type": "code",
   "execution_count": 38,
   "metadata": {},
   "outputs": [
    {
     "name": "stdout",
     "output_type": "stream",
     "text": [
      "['d:\\\\Users\\\\User\\\\Documents\\\\Archivos Python VSCODE\\\\Notebooks Básicos\\\\Fuerza Relativa\\\\notebooks', 'c:\\\\Users\\\\User\\\\AppData\\\\Local\\\\Programs\\\\Python\\\\Python310\\\\python310.zip', 'c:\\\\Users\\\\User\\\\AppData\\\\Local\\\\Programs\\\\Python\\\\Python310\\\\DLLs', 'c:\\\\Users\\\\User\\\\AppData\\\\Local\\\\Programs\\\\Python\\\\Python310\\\\lib', 'c:\\\\Users\\\\User\\\\AppData\\\\Local\\\\Programs\\\\Python\\\\Python310', '', 'C:\\\\Users\\\\User\\\\AppData\\\\Roaming\\\\Python\\\\Python310\\\\site-packages', 'C:\\\\Users\\\\User\\\\AppData\\\\Roaming\\\\Python\\\\Python310\\\\site-packages\\\\win32', 'C:\\\\Users\\\\User\\\\AppData\\\\Roaming\\\\Python\\\\Python310\\\\site-packages\\\\win32\\\\lib', 'C:\\\\Users\\\\User\\\\AppData\\\\Roaming\\\\Python\\\\Python310\\\\site-packages\\\\Pythonwin', 'c:\\\\Users\\\\User\\\\AppData\\\\Local\\\\Programs\\\\Python\\\\Python310\\\\lib\\\\site-packages', 'c:\\\\Users\\\\User\\\\AppData\\\\Local\\\\Programs\\\\Python\\\\Python310\\\\lib\\\\site-packages\\\\ibapi-10.19.2-py3.10.egg', 'D:/Users/User/Documents/Archivos Python VSCODE/Notebooks Básicos/Fuerza Relativa/scripts', 'D:/Users/User/Documents/Archivos Python VSCODE/Notebooks Básicos/Fuerza Relativa/scripts', 'D:/Users/User/Documents/Archivos Python VSCODE/Notebooks Básicos/Fuerza Relativa/scripts', 'D:/Users/User/Documents/Archivos Python VSCODE/Notebooks Básicos/Fuerza Relativa/scripts']\n"
     ]
    }
   ],
   "source": [
    "import sys\n",
    "sys.path.append('D:/Users/User/Documents/Archivos Python VSCODE/Notebooks Básicos/Fuerza Relativa/scripts')\n",
    "print(sys.path)\n"
   ]
  },
  {
   "cell_type": "code",
   "execution_count": 39,
   "metadata": {},
   "outputs": [],
   "source": [
    "\"\"\"\n",
    "Procesamiento de datos para análisis de fuerza relativa entre dos activos financieros.\n",
    "\"\"\"\n",
    "import pandas as pd\n",
    "from utility_functions import market_data"
   ]
  },
  {
   "cell_type": "code",
   "execution_count": 40,
   "metadata": {},
   "outputs": [],
   "source": [
    "# Definición de activos\n",
    "benchmark = 'BTC-USD' #Referencia Ej: SPY #TSLA\n",
    "ticker = 'LTC-USD' #Activo #AAPL #NIO\n"
   ]
  },
  {
   "cell_type": "code",
   "execution_count": 41,
   "metadata": {},
   "outputs": [
    {
     "name": "stderr",
     "output_type": "stream",
     "text": [
      "[*********************100%%**********************]  1 of 1 completed\n",
      "[*********************100%%**********************]  1 of 1 completed\n"
     ]
    },
    {
     "data": {
      "text/html": [
       "<div>\n",
       "<style scoped>\n",
       "    .dataframe tbody tr th:only-of-type {\n",
       "        vertical-align: middle;\n",
       "    }\n",
       "\n",
       "    .dataframe tbody tr th {\n",
       "        vertical-align: top;\n",
       "    }\n",
       "\n",
       "    .dataframe thead th {\n",
       "        text-align: right;\n",
       "    }\n",
       "</style>\n",
       "<table border=\"1\" class=\"dataframe\">\n",
       "  <thead>\n",
       "    <tr style=\"text-align: right;\">\n",
       "      <th></th>\n",
       "      <th>Open</th>\n",
       "      <th>High</th>\n",
       "      <th>Low</th>\n",
       "      <th>Close</th>\n",
       "      <th>Adj Close</th>\n",
       "      <th>Volume</th>\n",
       "    </tr>\n",
       "    <tr>\n",
       "      <th>Date</th>\n",
       "      <th></th>\n",
       "      <th></th>\n",
       "      <th></th>\n",
       "      <th></th>\n",
       "      <th></th>\n",
       "      <th></th>\n",
       "    </tr>\n",
       "  </thead>\n",
       "  <tbody>\n",
       "    <tr>\n",
       "      <th>2024-05-09</th>\n",
       "      <td>81.636353</td>\n",
       "      <td>83.071136</td>\n",
       "      <td>80.767380</td>\n",
       "      <td>83.056221</td>\n",
       "      <td>83.056221</td>\n",
       "      <td>301587301</td>\n",
       "    </tr>\n",
       "    <tr>\n",
       "      <th>2024-05-10</th>\n",
       "      <td>83.057304</td>\n",
       "      <td>83.422516</td>\n",
       "      <td>79.679558</td>\n",
       "      <td>80.226929</td>\n",
       "      <td>80.226929</td>\n",
       "      <td>314299445</td>\n",
       "    </tr>\n",
       "    <tr>\n",
       "      <th>2024-05-11</th>\n",
       "      <td>80.226959</td>\n",
       "      <td>82.189949</td>\n",
       "      <td>80.223770</td>\n",
       "      <td>81.345299</td>\n",
       "      <td>81.345299</td>\n",
       "      <td>239865771</td>\n",
       "    </tr>\n",
       "    <tr>\n",
       "      <th>2024-05-12</th>\n",
       "      <td>81.347336</td>\n",
       "      <td>82.101158</td>\n",
       "      <td>80.951012</td>\n",
       "      <td>81.382782</td>\n",
       "      <td>81.382782</td>\n",
       "      <td>199954369</td>\n",
       "    </tr>\n",
       "    <tr>\n",
       "      <th>2024-05-13</th>\n",
       "      <td>81.381485</td>\n",
       "      <td>82.436066</td>\n",
       "      <td>79.389526</td>\n",
       "      <td>80.672188</td>\n",
       "      <td>80.672188</td>\n",
       "      <td>336184032</td>\n",
       "    </tr>\n",
       "  </tbody>\n",
       "</table>\n",
       "</div>"
      ],
      "text/plain": [
       "                 Open       High        Low      Close  Adj Close     Volume\n",
       "Date                                                                        \n",
       "2024-05-09  81.636353  83.071136  80.767380  83.056221  83.056221  301587301\n",
       "2024-05-10  83.057304  83.422516  79.679558  80.226929  80.226929  314299445\n",
       "2024-05-11  80.226959  82.189949  80.223770  81.345299  81.345299  239865771\n",
       "2024-05-12  81.347336  82.101158  80.951012  81.382782  81.382782  199954369\n",
       "2024-05-13  81.381485  82.436066  79.389526  80.672188  80.672188  336184032"
      ]
     },
     "execution_count": 41,
     "metadata": {},
     "output_type": "execute_result"
    }
   ],
   "source": [
    "# Carga de datos históricos\n",
    "precios_historicos_activo = market_data(ticker, desde='2023-01-01', hasta='2024-12-31', intervalo='1d')\n",
    "precios_historicos_benchmark = market_data(benchmark, desde='2023-01-01', hasta='2024-12-31', intervalo='1d')\n",
    "\n",
    "precios_historicos_activo.tail()\n"
   ]
  },
  {
   "cell_type": "code",
   "execution_count": 49,
   "metadata": {},
   "outputs": [
    {
     "data": {
      "text/html": [
       "<div>\n",
       "<style scoped>\n",
       "    .dataframe tbody tr th:only-of-type {\n",
       "        vertical-align: middle;\n",
       "    }\n",
       "\n",
       "    .dataframe tbody tr th {\n",
       "        vertical-align: top;\n",
       "    }\n",
       "\n",
       "    .dataframe thead th {\n",
       "        text-align: right;\n",
       "    }\n",
       "</style>\n",
       "<table border=\"1\" class=\"dataframe\">\n",
       "  <thead>\n",
       "    <tr style=\"text-align: right;\">\n",
       "      <th></th>\n",
       "      <th>Open</th>\n",
       "      <th>High</th>\n",
       "      <th>Low</th>\n",
       "      <th>Close</th>\n",
       "      <th>Adj Close Benchmark</th>\n",
       "      <th>Volume</th>\n",
       "    </tr>\n",
       "    <tr>\n",
       "      <th>Date</th>\n",
       "      <th></th>\n",
       "      <th></th>\n",
       "      <th></th>\n",
       "      <th></th>\n",
       "      <th></th>\n",
       "      <th></th>\n",
       "    </tr>\n",
       "  </thead>\n",
       "  <tbody>\n",
       "    <tr>\n",
       "      <th>2023-01-01</th>\n",
       "      <td>16547.914062</td>\n",
       "      <td>16630.439453</td>\n",
       "      <td>16521.234375</td>\n",
       "      <td>16625.080078</td>\n",
       "      <td>16625.080078</td>\n",
       "      <td>9244361700</td>\n",
       "    </tr>\n",
       "    <tr>\n",
       "      <th>2023-01-02</th>\n",
       "      <td>16625.509766</td>\n",
       "      <td>16759.343750</td>\n",
       "      <td>16572.228516</td>\n",
       "      <td>16688.470703</td>\n",
       "      <td>16688.470703</td>\n",
       "      <td>12097775227</td>\n",
       "    </tr>\n",
       "    <tr>\n",
       "      <th>2023-01-03</th>\n",
       "      <td>16688.847656</td>\n",
       "      <td>16760.447266</td>\n",
       "      <td>16622.371094</td>\n",
       "      <td>16679.857422</td>\n",
       "      <td>16679.857422</td>\n",
       "      <td>13903079207</td>\n",
       "    </tr>\n",
       "    <tr>\n",
       "      <th>2023-01-04</th>\n",
       "      <td>16680.205078</td>\n",
       "      <td>16964.585938</td>\n",
       "      <td>16667.763672</td>\n",
       "      <td>16863.238281</td>\n",
       "      <td>16863.238281</td>\n",
       "      <td>18421743322</td>\n",
       "    </tr>\n",
       "    <tr>\n",
       "      <th>2023-01-05</th>\n",
       "      <td>16863.472656</td>\n",
       "      <td>16884.021484</td>\n",
       "      <td>16790.283203</td>\n",
       "      <td>16836.736328</td>\n",
       "      <td>16836.736328</td>\n",
       "      <td>13692758566</td>\n",
       "    </tr>\n",
       "  </tbody>\n",
       "</table>\n",
       "</div>"
      ],
      "text/plain": [
       "                    Open          High           Low         Close  \\\n",
       "Date                                                                 \n",
       "2023-01-01  16547.914062  16630.439453  16521.234375  16625.080078   \n",
       "2023-01-02  16625.509766  16759.343750  16572.228516  16688.470703   \n",
       "2023-01-03  16688.847656  16760.447266  16622.371094  16679.857422   \n",
       "2023-01-04  16680.205078  16964.585938  16667.763672  16863.238281   \n",
       "2023-01-05  16863.472656  16884.021484  16790.283203  16836.736328   \n",
       "\n",
       "            Adj Close Benchmark       Volume  \n",
       "Date                                          \n",
       "2023-01-01         16625.080078   9244361700  \n",
       "2023-01-02         16688.470703  12097775227  \n",
       "2023-01-03         16679.857422  13903079207  \n",
       "2023-01-04         16863.238281  18421743322  \n",
       "2023-01-05         16836.736328  13692758566  "
      ]
     },
     "execution_count": 49,
     "metadata": {},
     "output_type": "execute_result"
    }
   ],
   "source": [
    "# Renombrar columnas para claridad\n",
    "precios_historicos_activo.rename(columns={'Adj Close': 'Adj Close Ticker'}, inplace=True)\n",
    "precios_historicos_benchmark.rename(columns={'Adj Close': 'Adj Close Benchmark'}, inplace=True)\n",
    "\n",
    "precios_historicos_benchmark.head()"
   ]
  },
  {
   "cell_type": "code",
   "execution_count": 52,
   "metadata": {},
   "outputs": [],
   "source": [
    "# Unir dataframes basados en la fecha\n",
    "fuerza_relativa_df = pd.merge(precios_historicos_activo, precios_historicos_benchmark, on='Date')"
   ]
  },
  {
   "cell_type": "code",
   "execution_count": 53,
   "metadata": {},
   "outputs": [],
   "source": [
    "# Seleccionar columnas de interés\n",
    "fuerza_relativa_df = fuerza_relativa_df[['Adj Close Ticker', 'Adj Close Benchmark']]"
   ]
  },
  {
   "cell_type": "code",
   "execution_count": 54,
   "metadata": {},
   "outputs": [
    {
     "data": {
      "text/html": [
       "<div>\n",
       "<style scoped>\n",
       "    .dataframe tbody tr th:only-of-type {\n",
       "        vertical-align: middle;\n",
       "    }\n",
       "\n",
       "    .dataframe tbody tr th {\n",
       "        vertical-align: top;\n",
       "    }\n",
       "\n",
       "    .dataframe thead th {\n",
       "        text-align: right;\n",
       "    }\n",
       "</style>\n",
       "<table border=\"1\" class=\"dataframe\">\n",
       "  <thead>\n",
       "    <tr style=\"text-align: right;\">\n",
       "      <th></th>\n",
       "      <th>Adj Close Ticker</th>\n",
       "      <th>Adj Close Benchmark</th>\n",
       "    </tr>\n",
       "    <tr>\n",
       "      <th>Date</th>\n",
       "      <th></th>\n",
       "      <th></th>\n",
       "    </tr>\n",
       "  </thead>\n",
       "  <tbody>\n",
       "    <tr>\n",
       "      <th>2023-01-01</th>\n",
       "      <td>70.815659</td>\n",
       "      <td>16625.080078</td>\n",
       "    </tr>\n",
       "    <tr>\n",
       "      <th>2023-01-02</th>\n",
       "      <td>74.862907</td>\n",
       "      <td>16688.470703</td>\n",
       "    </tr>\n",
       "    <tr>\n",
       "      <th>2023-01-03</th>\n",
       "      <td>75.602722</td>\n",
       "      <td>16679.857422</td>\n",
       "    </tr>\n",
       "    <tr>\n",
       "      <th>2023-01-04</th>\n",
       "      <td>75.433907</td>\n",
       "      <td>16863.238281</td>\n",
       "    </tr>\n",
       "    <tr>\n",
       "      <th>2023-01-05</th>\n",
       "      <td>74.250809</td>\n",
       "      <td>16836.736328</td>\n",
       "    </tr>\n",
       "  </tbody>\n",
       "</table>\n",
       "</div>"
      ],
      "text/plain": [
       "            Adj Close Ticker  Adj Close Benchmark\n",
       "Date                                             \n",
       "2023-01-01         70.815659         16625.080078\n",
       "2023-01-02         74.862907         16688.470703\n",
       "2023-01-03         75.602722         16679.857422\n",
       "2023-01-04         75.433907         16863.238281\n",
       "2023-01-05         74.250809         16836.736328"
      ]
     },
     "execution_count": 54,
     "metadata": {},
     "output_type": "execute_result"
    }
   ],
   "source": [
    "fuerza_relativa_df.head()"
   ]
  },
  {
   "cell_type": "code",
   "execution_count": 46,
   "metadata": {},
   "outputs": [
    {
     "name": "stderr",
     "output_type": "stream",
     "text": [
      "C:\\Users\\User\\AppData\\Roaming\\Python\\Python310\\site-packages\\IPython\\extensions\\storemagic.py:229: UserWarning: This is now an optional IPython functionality, setting autorestore/fuerza_relativa_df requires you to install the `pickleshare` library.\n",
      "  db[ 'autorestore/' + arg ] = obj\n"
     ]
    },
    {
     "name": "stdout",
     "output_type": "stream",
     "text": [
      "Stored 'fuerza_relativa_df' (DataFrame)\n"
     ]
    }
   ],
   "source": [
    "%store fuerza_relativa_df"
   ]
  },
  {
   "cell_type": "code",
   "execution_count": null,
   "metadata": {},
   "outputs": [],
   "source": []
  }
 ],
 "metadata": {
  "kernelspec": {
   "display_name": "Python 3",
   "language": "python",
   "name": "python3"
  },
  "language_info": {
   "codemirror_mode": {
    "name": "ipython",
    "version": 3
   },
   "file_extension": ".py",
   "mimetype": "text/x-python",
   "name": "python",
   "nbconvert_exporter": "python",
   "pygments_lexer": "ipython3",
   "version": "3.10.6"
  }
 },
 "nbformat": 4,
 "nbformat_minor": 2
}
